{
 "cells": [
  {
   "cell_type": "code",
   "execution_count": 3,
   "metadata": {},
   "outputs": [
    {
     "ename": "SyntaxError",
     "evalue": "invalid syntax (<ipython-input-3-fabe73d669c8>, line 2)",
     "output_type": "error",
     "traceback": [
      "\u001b[1;36m  File \u001b[1;32m\"<ipython-input-3-fabe73d669c8>\"\u001b[1;36m, line \u001b[1;32m2\u001b[0m\n\u001b[1;33m    English = float(input(\"Enter Englishs Marks: \")\u001b[0m\n\u001b[1;37m          ^\u001b[0m\n\u001b[1;31mSyntaxError\u001b[0m\u001b[1;31m:\u001b[0m invalid syntax\n"
     ]
    }
   ],
   "source": [
    "Math = float(input('Enter Maths Marks: '))\n",
    "English = float(input(\"Enter English Marks: \"))\n",
    "Urdu = float(input(\"Enter Urdu Marks: \"))\n",
    "Physics = float(input(\"Enter Physics Marks: \"))\n",
    "Computer = float(input(\"Enter Computer Marks: \"))\n",
    "if (0 < Math <= 100) and (0 < English <= 100) and (0 < Urdu <= 100) and (0 < Physics <= 100) and (0 < Computer <= 100):\n",
    "    TotalObtained = Math + English + Urdu + Physics + Computer\n",
    "    TotalPercentage = (TotalObtained / 500) * 100\n",
    "    if TotalPercentage <= 50:\n",
    "        Grade = \"Fail\"\n",
    "    elif 50 < TotalPercentage <= 60:\n",
    "        Grade = \"C\"\n",
    "    elif 60 < TotalPercentage <= 70:\n",
    "        Grade = \"B\"\n",
    "    elif 70 < TotalPercentage <= 80:\n",
    "        Grade = \"A\"\n",
    "    elif 80 < TotalPercentage <= 100:\n",
    "        Grade = \"A+\"\n",
    "    print(\"Subject \\t Obtained Marks\")\n",
    "    print(\"Math \\t \", Math)\n",
    "    print(\"English \\t \", English)\n",
    "    print(\"Urdu \\t \", Urdu)\n",
    "    print(\"Physics \\t \", Physics)\n",
    "    print(\"Computer \\t \", Computer)\n",
    "    print(\"Total Marks: \", TotalObtained, \" Out of: \", 500, \" Grade: \", Grade)\n",
    "else:\n",
    "    print(\"Marks are incorrect.\")"
   ]
  },
  {
   "cell_type": "code",
   "execution_count": null,
   "metadata": {},
   "outputs": [],
   "source": [
    "InputNumber = int(input(\"Enter a Number: \"))\n",
    "if InputNumber % 2 == 0:\n",
    "    print(\"Even\")\n",
    "else:\n",
    "    print(\"Odd\")"
   ]
  },
  {
   "cell_type": "code",
   "execution_count": null,
   "metadata": {},
   "outputs": [],
   "source": [
    "l1 = [1,2,3]\n",
    "print(len(l1))"
   ]
  },
  {
   "cell_type": "code",
   "execution_count": null,
   "metadata": {},
   "outputs": [],
   "source": [
    "l1 = [1,2,3]\n",
    "Total = 0\n",
    "for i in l1:\n",
    "    Total = Total + i\n",
    "print(Total)"
   ]
  },
  {
   "cell_type": "code",
   "execution_count": null,
   "metadata": {},
   "outputs": [],
   "source": [
    "l1 = [1,2,3]\n",
    "print(max(l1))"
   ]
  },
  {
   "cell_type": "code",
   "execution_count": null,
   "metadata": {},
   "outputs": [],
   "source": [
    "l1 = [1,1,2,3,5,8,13,21,34,55,89]\n",
    "for i in l1:\n",
    "    if i < 5:\n",
    "        print(i)"
   ]
  }
 ],
 "metadata": {
  "kernelspec": {
   "display_name": "Python 3",
   "language": "python",
   "name": "python3"
  },
  "language_info": {
   "codemirror_mode": {
    "name": "ipython",
    "version": 3
   },
   "file_extension": ".py",
   "mimetype": "text/x-python",
   "name": "python",
   "nbconvert_exporter": "python",
   "pygments_lexer": "ipython3",
   "version": "3.7.3"
  }
 },
 "nbformat": 4,
 "nbformat_minor": 2
}
