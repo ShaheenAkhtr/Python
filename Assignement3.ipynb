{
 "cells": [
  {
   "cell_type": "code",
   "execution_count": null,
   "metadata": {},
   "outputs": [],
   "source": [
    "Var1 = int(input(\"Enter First No.: \"))\n",
    "Var2 = int(input(\"Enter Second No.: \"))\n",
    "Operator = input(\"Enter Operator (+, -, /, *, **): \")\n",
    "if Operator == '+':\n",
    "    print(\"Answer: \", str(Var1 + Var2))\n",
    "elif Operator == '-':\n",
    "    print(\"Answer: \", str(Var1 - Var2))\n",
    "elif Operator == '/':\n",
    "    print(\"Answer: \", str(Var1 / Var2))\n",
    "elif Operator == '*':\n",
    "    print(\"Answer: \", str(Var1 * Var2))\n",
    "elif Operator == '**':\n",
    "    print(\"Answer: \", str(Var1 ** Var2))\n",
    "else:\n",
    "    print(\"Wrong Operator\")"
   ]
  },
  {
   "cell_type": "code",
   "execution_count": null,
   "metadata": {},
   "outputs": [],
   "source": [
    "import numbers\n",
    "l1 = [1, 2, 3.5, 4, 5, 'asd']\n",
    "NumericValCount = 0\n",
    "for i in l1:\n",
    "    if isinstance(i, numbers.Number):\n",
    "        NumericValCount = NumericValCount + 1\n",
    "print(\"Total Numeric Values in List: \", NumericValCount)"
   ]
  },
  {
   "cell_type": "code",
   "execution_count": null,
   "metadata": {},
   "outputs": [],
   "source": [
    "d1 = {}\n",
    "d1key = input(\"Enter Key for Dictionary: \")\n",
    "d1val = input(\"Enter Value for Dictionary: \")\n",
    "d1[d1key] = d1val\n",
    "print(d1)"
   ]
  },
  {
   "cell_type": "code",
   "execution_count": null,
   "metadata": {},
   "outputs": [],
   "source": [
    "import numbers\n",
    "d1 = {'a': 1, 'b': 2, 'c': 3, 'd': 'd'}\n",
    "TotSum = 0\n",
    "for i in d1.values():\n",
    "    if isinstance(i, numbers.Number):\n",
    "        TotSum = TotSum + i\n",
    "print(TotSum)"
   ]
  },
  {
   "cell_type": "code",
   "execution_count": null,
   "metadata": {},
   "outputs": [],
   "source": [
    "l1 = [1, 2, 12, 4, 11, 12]\n",
    "DuplicateCount = 0;\n",
    "for i in range(0, len(l1)):\n",
    "    for j in range(i+1, len(l1)):\n",
    "        if l1[i] == l1[j]:\n",
    "            DuplicateCount = DuplicateCount + 1\n",
    "            print(\"Duplicate Found: \", l1[i])\n",
    "if DuplicateCount == 0:\n",
    "    print(\"No Duplicate Found.\")"
   ]
  },
  {
   "cell_type": "code",
   "execution_count": null,
   "metadata": {},
   "outputs": [],
   "source": [
    "d1 = {'a': 1, 'b': 2}\n",
    "d1key = input(\"Enter Key to find in Dictionary: \")\n",
    "if d1key in d1.keys():\n",
    "    print(\"Key Found having value: \",d1[d1key])\n",
    "else:\n",
    "    print(\"Key not found\")"
   ]
  }
 ],
 "metadata": {
  "kernelspec": {
   "display_name": "Python 3",
   "language": "python",
   "name": "python3"
  },
  "language_info": {
   "codemirror_mode": {
    "name": "ipython",
    "version": 3
   },
   "file_extension": ".py",
   "mimetype": "text/x-python",
   "name": "python",
   "nbconvert_exporter": "python",
   "pygments_lexer": "ipython3",
   "version": "3.7.3"
  }
 },
 "nbformat": 4,
 "nbformat_minor": 2
}
